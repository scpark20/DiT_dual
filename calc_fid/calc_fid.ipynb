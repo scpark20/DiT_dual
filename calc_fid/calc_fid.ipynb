{
 "cells": [
  {
   "cell_type": "code",
   "execution_count": 2,
   "id": "8abd3fd8",
   "metadata": {},
   "outputs": [],
   "source": [
    "import torch\n",
    "import os\n",
    "os.chdir('../')"
   ]
  },
  {
   "cell_type": "code",
   "execution_count": 5,
   "id": "c9fa5c2e",
   "metadata": {},
   "outputs": [],
   "source": [
    "from calc_fid.utils import calc_fid_pt_dir"
   ]
  },
  {
   "cell_type": "code",
   "execution_count": null,
   "id": "f80f6eca",
   "metadata": {},
   "outputs": [
    {
     "name": "stderr",
     "output_type": "stream",
     "text": [
      "  0%|          | 0/9860 [00:00<?, ?it/s]"
     ]
    },
    {
     "name": "stderr",
     "output_type": "stream",
     "text": [
      " 40%|███▉      | 3935/9860 [00:01<00:01, 3952.17it/s]"
     ]
    }
   ],
   "source": [
    "pt_dirs = ['samples/dual/multi3/DiT-XL-2-pretrained-size-256-vae-ema-cfg-1.5-seed-0-n_steps3'\n",
    "            ]\n",
    "for pt_dir in pt_dirs:\n",
    "    data = torch.load('/dataset/dit/stats.pt')\n",
    "    fid = calc_fid_pt_dir(pt_dir, data['mu'], data['sigma'])\n",
    "    print(pt_dir, fid)\n"
   ]
  },
  {
   "cell_type": "code",
   "execution_count": null,
   "id": "e22cf8f6",
   "metadata": {},
   "outputs": [],
   "source": []
  }
 ],
 "metadata": {
  "kernelspec": {
   "display_name": "dual",
   "language": "python",
   "name": "python3"
  },
  "language_info": {
   "codemirror_mode": {
    "name": "ipython",
    "version": 3
   },
   "file_extension": ".py",
   "mimetype": "text/x-python",
   "name": "python",
   "nbconvert_exporter": "python",
   "pygments_lexer": "ipython3",
   "version": "3.11.13"
  }
 },
 "nbformat": 4,
 "nbformat_minor": 5
}
