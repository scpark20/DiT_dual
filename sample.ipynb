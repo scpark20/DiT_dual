{
 "cells": [
  {
   "cell_type": "code",
   "execution_count": 1,
   "id": "65a9e617",
   "metadata": {},
   "outputs": [],
   "source": [
    "import argparse\n",
    "from easydict import EasyDict as edict\n",
    "\n",
    "parser = argparse.ArgumentParser()\n",
    "parser.add_argument(\"--model\", type=str, choices=[\"DiT-XL/2\"], default=\"DiT-XL/2\")\n",
    "parser.add_argument(\"--vae\", type=str, choices=[\"ema\", \"mse\"], default=\"mse\")\n",
    "parser.add_argument(\"--image-size\", type=int, choices=[256, 512], default=256)\n",
    "parser.add_argument(\"--num-classes\", type=int, default=1000)\n",
    "parser.add_argument(\"--cfg-scale\", type=float, default=4.0)\n",
    "parser.add_argument(\"--num-sampling-steps\", type=int, default=1000)\n",
    "parser.add_argument(\"--seed\", type=int, default=0)\n",
    "parser.add_argument(\"--ckpt\", type=str, default=None)\n",
    "\n",
    "args = parser.parse_args([])  # Notebook에서는 [] 필수\n",
    "args = edict(vars(args))\n"
   ]
  },
  {
   "cell_type": "code",
   "execution_count": 2,
   "id": "539233bb",
   "metadata": {},
   "outputs": [
    {
     "name": "stderr",
     "output_type": "stream",
     "text": [
      "/home/scpark/miniconda3/envs/dual/lib/python3.11/site-packages/tqdm/auto.py:21: TqdmWarning: IProgress not found. Please update jupyter and ipywidgets. See https://ipywidgets.readthedocs.io/en/stable/user_install.html\n",
      "  from .autonotebook import tqdm as notebook_tqdm\n"
     ]
    }
   ],
   "source": [
    "\n",
    "\n",
    "# Copyright (c) Meta Platforms, Inc. and affiliates.\n",
    "# All rights reserved.\n",
    "\n",
    "# This source code is licensed under the license found in the\n",
    "# LICENSE file in the root directory of this source tree.\n",
    "\n",
    "\"\"\"\n",
    "Sample new images from a pre-trained DiT.\n",
    "\"\"\"\n",
    "import torch\n",
    "torch.backends.cuda.matmul.allow_tf32 = True\n",
    "torch.backends.cudnn.allow_tf32 = True\n",
    "from torchvision.utils import save_image\n",
    "from diffusion import create_diffusion\n",
    "from diffusers.models import AutoencoderKL\n",
    "from download import find_model\n",
    "from models import DiT_models\n",
    "import argparse\n",
    "\n",
    "\n",
    "# Setup PyTorch:\n",
    "torch.manual_seed(args.seed)\n",
    "torch.set_grad_enabled(False)\n",
    "device = \"cuda\" if torch.cuda.is_available() else \"cpu\"\n",
    "\n",
    "if args.ckpt is None:\n",
    "    assert args.model == \"DiT-XL/2\", \"Only DiT-XL/2 models are available for auto-download.\"\n",
    "    assert args.image_size in [256, 512]\n",
    "    assert args.num_classes == 1000\n",
    "\n",
    "# Load model:\n",
    "latent_size = args.image_size // 8\n",
    "model = DiT_models[args.model](\n",
    "    input_size=latent_size,\n",
    "    num_classes=args.num_classes\n",
    ").to(device)\n",
    "# Auto-download a pre-trained model or load a custom DiT checkpoint from train.py:\n",
    "ckpt_path = args.ckpt or f\"DiT-XL-2-{args.image_size}x{args.image_size}.pt\"\n",
    "state_dict = find_model(ckpt_path)\n",
    "model.load_state_dict(state_dict)\n",
    "model.eval()  # important!\n",
    "diffusion = create_diffusion(str(args.num_sampling_steps))\n",
    "vae = AutoencoderKL.from_pretrained(f\"stabilityai/sd-vae-ft-{args.vae}\").to(device)\n",
    "\n"
   ]
  },
  {
   "cell_type": "code",
   "execution_count": 3,
   "id": "e7014fde",
   "metadata": {},
   "outputs": [
    {
     "data": {
      "text/plain": [
       "<All keys matched successfully>"
      ]
     },
     "execution_count": 3,
     "metadata": {},
     "output_type": "execute_result"
    }
   ],
   "source": [
    "from solvers.common import NoiseScheduleVP, model_wrapper\n",
    "from solvers.taylor.solver.gdual_solver import GDual_Solver\n",
    "\n",
    "noise_schedule = NoiseScheduleVP(schedule=\"discrete\", betas=torch.tensor(diffusion.betas))\n",
    "solver = GDual_Solver(noise_schedule, 5, skip_type='time_uniform').to(device)\n",
    "pt_file = '/home/scpark/logpx_samplers/logs/ablations/multi3/s5/step_00020000.pt'\n",
    "state_dict = torch.load(pt_file, map_location='cpu', weights_only=False)['solver_state_dict']\n",
    "solver.load_state_dict(state_dict, strict=True)\n"
   ]
  },
  {
   "cell_type": "code",
   "execution_count": 13,
   "id": "0cc9d5c8",
   "metadata": {},
   "outputs": [],
   "source": [
    "# Labels to condition the model with (feel free to change):\n",
    "class_labels = [207, 360, 387, 974, 88, 979, 417, 279]\n",
    "\n",
    "\n",
    "# Create sampling noise:\n",
    "n = len(class_labels)\n",
    "z = torch.randn(n, 4, latent_size, latent_size, device=device)\n",
    "y = torch.tensor(class_labels, device=device)\n",
    "class_null = torch.tensor([1000] * len(y), device=device)\n",
    "\n",
    "def inner_model_fn(x, t, cond, **kwargs):        \n",
    "    return model.forward(x, t, cond)[:, :4]\n",
    "        \n",
    "model_fn = model_wrapper(\n",
    "        inner_model_fn,\n",
    "        noise_schedule,\n",
    "        model_type=\"noise\",\n",
    "        guidance_type=\"classifier-free\",\n",
    "        condition=y,\n",
    "        unconditional_condition=class_null,\n",
    "        guidance_scale=1.5,\n",
    ")\n",
    "\n",
    "# Sample images:\n",
    "samples = solver.sample(z, model_fn)['samples']\n",
    "samples = vae.decode(samples / 0.18215).sample\n",
    "save_image(samples, \"sample.png\", nrow=4, normalize=True, value_range=(-1, 1))"
   ]
  },
  {
   "cell_type": "code",
   "execution_count": 10,
   "id": "0db6acdb",
   "metadata": {},
   "outputs": [
    {
     "data": {
      "text/plain": [
       "torch.Size([8, 3, 256, 256])"
      ]
     },
     "execution_count": 10,
     "metadata": {},
     "output_type": "execute_result"
    }
   ],
   "source": [
    "samples.shape"
   ]
  },
  {
   "cell_type": "code",
   "execution_count": null,
   "id": "04bd01c1",
   "metadata": {},
   "outputs": [],
   "source": []
  },
  {
   "cell_type": "code",
   "execution_count": null,
   "id": "1fda8f5c",
   "metadata": {},
   "outputs": [],
   "source": []
  },
  {
   "cell_type": "code",
   "execution_count": null,
   "id": "00d42a1f",
   "metadata": {},
   "outputs": [],
   "source": []
  }
 ],
 "metadata": {
  "kernelspec": {
   "display_name": "dual",
   "language": "python",
   "name": "python3"
  },
  "language_info": {
   "codemirror_mode": {
    "name": "ipython",
    "version": 3
   },
   "file_extension": ".py",
   "mimetype": "text/x-python",
   "name": "python",
   "nbconvert_exporter": "python",
   "pygments_lexer": "ipython3",
   "version": "3.11.13"
  }
 },
 "nbformat": 4,
 "nbformat_minor": 5
}
